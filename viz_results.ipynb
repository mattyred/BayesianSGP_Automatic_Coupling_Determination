{
 "cells": [
  {
   "cell_type": "code",
   "execution_count": 1,
   "metadata": {},
   "outputs": [
    {
     "name": "stderr",
     "output_type": "stream",
     "text": [
      "/home/adm_kconstantin/miniconda3/envs/bsgp_env/lib/python3.8/site-packages/scipy/__init__.py:146: UserWarning: A NumPy version >=1.16.5 and <1.23.0 is required for this version of SciPy (detected version 1.24.3\n",
      "  warnings.warn(f\"A NumPy version >={np_minversion} and <{np_maxversion}\"\n"
     ]
    }
   ],
   "source": [
    "import numpy as np\n",
    "import seaborn as sns"
   ]
  },
  {
   "cell_type": "code",
   "execution_count": 2,
   "metadata": {},
   "outputs": [],
   "source": [
    "def fill_triangular(L, D_in):\n",
    "    lower_indices = np.tril_indices(D_in)\n",
    "    l_matrix = np.zeros((D_in, D_in), dtype=L.dtype)\n",
    "    l_matrix[lower_indices] = L\n",
    "    return l_matrix"
   ]
  },
  {
   "cell_type": "code",
   "execution_count": 6,
   "metadata": {},
   "outputs": [
    {
     "name": "stdout",
     "output_type": "stream",
     "text": [
      "Params saved:  ['kern.L', 'D', 'kernel', 'prior', 'test_mnll', 'test_error_rate', 'test_nrmse']\n"
     ]
    }
   ],
   "source": [
    "kernel_data = np.load('results/run-0011/kernel/kernel_samples_fold_0.npz')\n",
    "print('Params saved: ', list(kernel_data.keys()))"
   ]
  },
  {
   "cell_type": "code",
   "execution_count": 7,
   "metadata": {},
   "outputs": [],
   "source": [
    "D = kernel_data['D']\n",
    "num_samples = kernel_data['kern.L'].shape[0]\n",
    "precision_samples = np.empty((num_samples, D, D)) # S x D x D\n",
    "for s in  range(num_samples):\n",
    "    L =  fill_triangular(kernel_data['kern.L'][s], D) \n",
    "    precision = L @ L.T\n",
    "    precision_samples[s] = precision\n",
    "precision_mean = np.mean(precision_samples, axis=0) # D x D\n",
    "precision_std = np.std(precision_samples, axis=0) # D x D"
   ]
  },
  {
   "cell_type": "code",
   "execution_count": 8,
   "metadata": {},
   "outputs": [
    {
     "data": {
      "text/plain": [
       "<matplotlib.axes._subplots.AxesSubplot at 0x7fb8753dea90>"
      ]
     },
     "execution_count": 8,
     "metadata": {},
     "output_type": "execute_result"
    },
    {
     "data": {
      "image/png": "[encoded data removed]",
      "text/plain": [
       "<Figure size 640x480 with 2 Axes>"
      ]
     },
     "metadata": {},
     "output_type": "display_data"
    }
   ],
   "source": [
    "sns.heatmap(precision_mean, cmap='vlag', vmin=-np.max(precision), center=0, vmax=np.max(precision), square=True)"
   ]
  },
  {
   "cell_type": "code",
   "execution_count": null,
   "metadata": {},
   "outputs": [],
   "source": []
  }
 ],
 "metadata": {
  "kernelspec": {
   "display_name": "sproj",
   "language": "python",
   "name": "python3"
  },
  "language_info": {
   "codemirror_mode": {
    "name": "ipython",
    "version": 3
   },
   "file_extension": ".py",
   "mimetype": "text/x-python",
   "name": "python",
   "nbconvert_exporter": "python",
   "pygments_lexer": "ipython3",
   "version": "3.8.18"
  }
 },
 "nbformat": 4,
 "nbformat_minor": 2
}
