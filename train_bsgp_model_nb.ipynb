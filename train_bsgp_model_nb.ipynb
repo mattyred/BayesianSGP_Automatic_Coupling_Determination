{
 "cells": [
  {
   "cell_type": "code",
   "execution_count": 1,
   "metadata": {},
   "outputs": [
    {
     "name": "stderr",
     "output_type": "stream",
     "text": [
      "INFO:numexpr.utils:NumExpr defaulting to 4 threads.\n",
      "INFO:root:Loading dataset from data/uci/boston.pth\n"
     ]
    },
    {
     "name": "stdout",
     "output_type": "stream",
     "text": [
      "X-train: (393, 13)\n"
     ]
    }
   ],
   "source": [
    "import torch\n",
    "import numpy as np\n",
    "from src.datasets.uci_loader import UCIDataset\n",
    "import seaborn as sns\n",
    "from src.model_builder import build_model, sghmc_sampling, print_sample_performance, collect_samples, predict_y, compute_mnll, predict\n",
    "from src.core.sampler import SGHMC_sampler\n",
    "from torchviz import make_dot\n",
    "%load_ext autoreload\n",
    "%autoreload 2\n",
    "\n",
    "# setting PyTorch\n",
    "\n",
    "from src.misc.settings import settings\n",
    "device = settings.device\n",
    "if device.type == 'cuda':\n",
    "    torch.set_default_tensor_type('torch.cuda.FloatTensor')\n",
    "\n",
    " # Load regression UCI dataset\n",
    "\n",
    "data_uci = UCIDataset(dataset_path='data/uci/boston.pth', static_split=True, seed=0)\n",
    "N, D = data_uci.X_train.shape\n",
    "print(f'X-train: {N, D}')"
   ]
  },
  {
   "cell_type": "markdown",
   "metadata": {},
   "source": [
    "How the model works in BGSP:\n",
    "1. There is a `run_regression.py` file to setup the model classes such as `RegressionModel` and the cmd line arguments\n",
    "2. The `RegressionModel` in `models.py` builds the `DGP` model and launches a training loop with the hmc sampling inside\n",
    "3. The `DGP` class is defined throug different `Layers` and instantiates the TensorFlow session and does the initialization "
   ]
  },
  {
   "cell_type": "code",
   "execution_count": 5,
   "metadata": {},
   "outputs": [],
   "source": [
    "#  Instantiate a model\n",
    "class ARGS():\n",
    "    num_inducing = 100\n",
    "    n_layers = 1\n",
    "    minibatch_size = 100\n",
    "    window_size = 64\n",
    "    output_dim= 1\n",
    "    adam_lr = 0.01\n",
    "    prior_inducing_type = \"uniform\"\n",
    "    full_cov = False\n",
    "    epsilon = 0.01\n",
    "    mdecay = 0.05\n",
    "    iterations = 1024\n",
    "    num_posterior_samples = 256\n",
    "    posterior_sample_spacing = 32\n",
    "args = ARGS()\n",
    "\n",
    "bsgp_model = build_model(data_uci.X_train, data_uci.Y_train, args)\n",
    "#make_dot(nll, params={'nll': nll}).render(\"computation_graph\", format=\"png\", cleanup=True)"
   ]
  },
  {
   "cell_type": "code",
   "execution_count": 10,
   "metadata": {},
   "outputs": [
    {
     "data": {
      "text/plain": [
       "(tensor([0.0092, 0.0092, 0.0092, 0.0092, 0.0092, 0.0092, 0.0092, 0.0092, 0.0092,\n",
       "         0.0092, 0.0092, 0.0092, 0.0092]),)"
      ]
     },
     "execution_count": 10,
     "metadata": {},
     "output_type": "execute_result"
    }
   ],
   "source": [
    "bsgp_model.reset(data_uci.X_train, data_uci.Y_train)\n",
    "\n",
    "sghmc_sampler = SGHMC_sampler(bsgp_model.parameters(), args.mdecay, args.epsilon)\n",
    "\n",
    "sghmc_sampler.zero_grad()\n",
    "X_batch, Y_batch = bsgp_model.get_minibatch()\n",
    "nll = bsgp_model.forward(X_batch, Y_batch)\n",
    "#make_dot(prior, params={'prior': prior}).render(\"computation_graph\", format=\"png\", cleanup=True)\n",
    "#nll.backward(retain_graph=True)\n",
    "#print([p for p in bsgp_model.parameters()][3]._grad)\n",
    "grads = torch.autograd.grad(nll, bsgp_model.layers[0].kernel.lengthscales, retain_graph=True)\n",
    "grads\n",
    "#sghmc_sampler.step()"
   ]
  },
  {
   "cell_type": "code",
   "execution_count": 3,
   "metadata": {},
   "outputs": [
    {
     "ename": "RuntimeError",
     "evalue": "Trying to backward through the graph a second time (or directly access saved tensors after they have already been freed). Saved intermediate values of the graph are freed when you call .backward() or autograd.grad(). Specify retain_graph=True if you need to backward through the graph a second time or if you need to access saved tensors after calling backward.",
     "output_type": "error",
     "traceback": [
      "\u001b[0;31m---------------------------------------------------------------------------\u001b[0m",
      "\u001b[0;31mRuntimeError\u001b[0m                              Traceback (most recent call last)",
      "\u001b[1;32m/Users/mattiarosso/Desktop/ML/BSGPtorch/train_bsgp_model_nb.ipynb Cell 4\u001b[0m line \u001b[0;36m6\n\u001b[1;32m      <a href='vscode-notebook-cell:/Users/mattiarosso/Desktop/ML/BSGPtorch/train_bsgp_model_nb.ipynb#X15sZmlsZQ%3D%3D?line=3'>4</a>\u001b[0m bsgp_model\u001b[39m.\u001b[39mzero_grad()\n\u001b[1;32m      <a href='vscode-notebook-cell:/Users/mattiarosso/Desktop/ML/BSGPtorch/train_bsgp_model_nb.ipynb#X15sZmlsZQ%3D%3D?line=4'>5</a>\u001b[0m global_step \u001b[39m+\u001b[39m\u001b[39m=\u001b[39m \u001b[39m1\u001b[39m\n\u001b[0;32m----> <a href='vscode-notebook-cell:/Users/mattiarosso/Desktop/ML/BSGPtorch/train_bsgp_model_nb.ipynb#X15sZmlsZQ%3D%3D?line=5'>6</a>\u001b[0m sample \u001b[39m=\u001b[39m sghmc_sampling(bsgp_model)\n\u001b[1;32m      <a href='vscode-notebook-cell:/Users/mattiarosso/Desktop/ML/BSGPtorch/train_bsgp_model_nb.ipynb#X15sZmlsZQ%3D%3D?line=6'>7</a>\u001b[0m \u001b[39m\u001b[39m\u001b[39m\"\"\"\u001b[39;00m\n\u001b[1;32m      <a href='vscode-notebook-cell:/Users/mattiarosso/Desktop/ML/BSGPtorch/train_bsgp_model_nb.ipynb#X15sZmlsZQ%3D%3D?line=7'>8</a>\u001b[0m \u001b[39mif args.prior_type == \"determinantal\":\u001b[39;00m\n\u001b[1;32m      <a href='vscode-notebook-cell:/Users/mattiarosso/Desktop/ML/BSGPtorch/train_bsgp_model_nb.ipynb#X15sZmlsZQ%3D%3D?line=8'>9</a>\u001b[0m \u001b[39m    bsgp_model.reset_Lm()\u001b[39;00m\n\u001b[1;32m     <a href='vscode-notebook-cell:/Users/mattiarosso/Desktop/ML/BSGPtorch/train_bsgp_model_nb.ipynb#X15sZmlsZQ%3D%3D?line=9'>10</a>\u001b[0m \u001b[39m    #model.train_hypers() if hasattr(self.model, 'hyper_train_op') else None\u001b[39;00m\n\u001b[1;32m     <a href='vscode-notebook-cell:/Users/mattiarosso/Desktop/ML/BSGPtorch/train_bsgp_model_nb.ipynb#X15sZmlsZQ%3D%3D?line=10'>11</a>\u001b[0m \u001b[39m\"\"\"\u001b[39;00m\n\u001b[1;32m     <a href='vscode-notebook-cell:/Users/mattiarosso/Desktop/ML/BSGPtorch/train_bsgp_model_nb.ipynb#X15sZmlsZQ%3D%3D?line=11'>12</a>\u001b[0m \u001b[39mif\u001b[39;00m _ \u001b[39m%\u001b[39m \u001b[39m50\u001b[39m \u001b[39m==\u001b[39m \u001b[39m1\u001b[39m:\n",
      "File \u001b[0;32m~/Desktop/ML/BSGPtorch/src/model_builder.py:52\u001b[0m, in \u001b[0;36msghmc_sampling\u001b[0;34m(model)\u001b[0m\n\u001b[1;32m     50\u001b[0m nll \u001b[39m=\u001b[39m model\u001b[39m.\u001b[39mforward(X_batch, Y_batch)\n\u001b[1;32m     51\u001b[0m nll\u001b[39m.\u001b[39mbackward()\n\u001b[0;32m---> 52\u001b[0m model\u001b[39m.\u001b[39;49msghmc_step(Y_batch, burn_in\u001b[39m=\u001b[39;49m\u001b[39mTrue\u001b[39;49;00m)\n\u001b[1;32m     53\u001b[0m \u001b[39mfor\u001b[39;00m _ \u001b[39min\u001b[39;00m \u001b[39mrange\u001b[39m(\u001b[39m10\u001b[39m):\n\u001b[1;32m     54\u001b[0m     X_batch, Y_batch \u001b[39m=\u001b[39m model\u001b[39m.\u001b[39mget_minibatch()\n",
      "File \u001b[0;32m~/Desktop/ML/BSGPtorch/src/core/bsgp.py:158\u001b[0m, in \u001b[0;36mBSGP.sghmc_step\u001b[0;34m(self, Y, burn_in)\u001b[0m\n\u001b[1;32m    155\u001b[0m \u001b[39mdef\u001b[39;00m \u001b[39msghmc_step\u001b[39m(\u001b[39mself\u001b[39m, Y, burn_in\u001b[39m=\u001b[39m\u001b[39mTrue\u001b[39;00m):\n\u001b[1;32m    156\u001b[0m     \u001b[39m#self.zero_grad()\u001b[39;00m\n\u001b[1;32m    157\u001b[0m     \u001b[39mself\u001b[39m\u001b[39m.\u001b[39mnll \u001b[39m=\u001b[39m \u001b[39mself\u001b[39m\u001b[39m.\u001b[39mcompute_nll(Y)\n\u001b[0;32m--> 158\u001b[0m     \u001b[39mself\u001b[39;49m\u001b[39m.\u001b[39;49mgenerate_update_step(\u001b[39mself\u001b[39;49m\u001b[39m.\u001b[39;49mnll, \u001b[39mself\u001b[39;49m\u001b[39m.\u001b[39;49mmdecay, \u001b[39mself\u001b[39;49m\u001b[39m.\u001b[39;49mepsilon) \u001b[39m# backward()\u001b[39;00m\n\u001b[1;32m    159\u001b[0m     \u001b[39mself\u001b[39m\u001b[39m.\u001b[39mupdate_model_parameters(burn_in)\n",
      "File \u001b[0;32m~/Desktop/ML/BSGPtorch/src/core/bsgp.py:205\u001b[0m, in \u001b[0;36mBSGP.generate_update_step\u001b[0;34m(self, nll, mdecay, epsilon)\u001b[0m\n\u001b[1;32m    202\u001b[0m burn_in_updates \u001b[39m=\u001b[39m []\n\u001b[1;32m    203\u001b[0m sample_updates \u001b[39m=\u001b[39m []\n\u001b[0;32m--> 205\u001b[0m grads \u001b[39m=\u001b[39m torch\u001b[39m.\u001b[39;49mautograd\u001b[39m.\u001b[39;49mgrad(nll, \u001b[39mself\u001b[39;49m\u001b[39m.\u001b[39;49mvariables, retain_graph\u001b[39m=\u001b[39;49m\u001b[39mTrue\u001b[39;49;00m)\n\u001b[1;32m    207\u001b[0m \u001b[39mfor\u001b[39;00m theta, grad \u001b[39min\u001b[39;00m \u001b[39mzip\u001b[39m(\u001b[39mself\u001b[39m\u001b[39m.\u001b[39mvariables, grads):\n\u001b[1;32m    208\u001b[0m     xi \u001b[39m=\u001b[39m torch\u001b[39m.\u001b[39mnn\u001b[39m.\u001b[39mParameter(torch\u001b[39m.\u001b[39mones_like(theta), requires_grad\u001b[39m=\u001b[39m\u001b[39mFalse\u001b[39;00m)\n",
      "File \u001b[0;32m~/opt/anaconda3/envs/sproj/lib/python3.8/site-packages/torch/autograd/__init__.py:300\u001b[0m, in \u001b[0;36mgrad\u001b[0;34m(outputs, inputs, grad_outputs, retain_graph, create_graph, only_inputs, allow_unused, is_grads_batched)\u001b[0m\n\u001b[1;32m    298\u001b[0m     \u001b[39mreturn\u001b[39;00m _vmap_internals\u001b[39m.\u001b[39m_vmap(vjp, \u001b[39m0\u001b[39m, \u001b[39m0\u001b[39m, allow_none_pass_through\u001b[39m=\u001b[39m\u001b[39mTrue\u001b[39;00m)(grad_outputs_)\n\u001b[1;32m    299\u001b[0m \u001b[39melse\u001b[39;00m:\n\u001b[0;32m--> 300\u001b[0m     \u001b[39mreturn\u001b[39;00m Variable\u001b[39m.\u001b[39;49m_execution_engine\u001b[39m.\u001b[39;49mrun_backward(  \u001b[39m# Calls into the C++ engine to run the backward pass\u001b[39;49;00m\n\u001b[1;32m    301\u001b[0m         t_outputs, grad_outputs_, retain_graph, create_graph, t_inputs,\n\u001b[1;32m    302\u001b[0m         allow_unused, accumulate_grad\u001b[39m=\u001b[39;49m\u001b[39mFalse\u001b[39;49;00m)\n",
      "\u001b[0;31mRuntimeError\u001b[0m: Trying to backward through the graph a second time (or directly access saved tensors after they have already been freed). Saved intermediate values of the graph are freed when you call .backward() or autograd.grad(). Specify retain_graph=True if you need to backward through the graph a second time or if you need to access saved tensors after calling backward."
     ]
    }
   ],
   "source": [
    "bsgp_model.reset(data_uci.X_train, data_uci.Y_train)\n",
    "global_step = 0\n",
    "for _ in range(args.iterations):\n",
    "    bsgp_model.zero_grad()\n",
    "    global_step += 1\n",
    "    sample = sghmc_sampling(bsgp_model)\n",
    "    \"\"\"\n",
    "    if args.prior_type == \"determinantal\":\n",
    "        bsgp_model.reset_Lm()\n",
    "        #model.train_hypers() if hasattr(self.model, 'hyper_train_op') else None\n",
    "    \"\"\"\n",
    "    if _ % 50 == 1:\n",
    "        marginal_ll = print_sample_performance(bsgp_model)\n",
    "        print('TRAIN | iter = %6d      sample marginal LL = %5.2f' % (_, marginal_ll))\n",
    "    \n",
    "collect_samples(bsgp_model, args.num_posterior_samples, args.posterior_sample_spacing)\n",
    "\n",
    "ms, vs = predict(bsgp_model, data_uci.X_test, args.num_posterior_samples)\n",
    "mnll = compute_mnll(ms, vs, data_uci.Y_test, num_posterior_samples=args.num_posterior_samples, ystd=data_uci.Y_train_std).mean().tolist()\n",
    "print(f'Test MNLL = {mnll}')"
   ]
  },
  {
   "cell_type": "code",
   "execution_count": 4,
   "metadata": {},
   "outputs": [
    {
     "data": {
      "text/plain": [
       "<AxesSubplot: >"
      ]
     },
     "execution_count": 4,
     "metadata": {},
     "output_type": "execute_result"
    },
    {
     "data": {
      "image/png": "[encoded data removed]",
      "text/plain": [
       "<Figure size 640x480 with 1 Axes>"
      ]
     },
     "metadata": {},
     "output_type": "display_data"
    }
   ],
   "source": [
    "m = np.average(ms, 0)\n",
    "v = np.average(vs + ms**2, 0) - m**2\n",
    "sns.scatterplot(x=m.reshape(-1), y=data_uci.Y_test.reshape(-1))"
   ]
  },
  {
   "cell_type": "code",
   "execution_count": 5,
   "metadata": {},
   "outputs": [
    {
     "name": "stdout",
     "output_type": "stream",
     "text": [
      "Test MNLL = -3.514273795408619\n"
     ]
    },
    {
     "name": "stderr",
     "output_type": "stream",
     "text": [
      "/home/adm_kconstantin/Desktop/BSGP_Project/BSGPtorch/src/core/bsgp.py:145: UserWarning: To copy construct from a tensor, it is recommended to use sourceTensor.clone().detach() or sourceTensor.clone().detach().requires_grad_(True), rather than torch.tensor(sourceTensor).\n",
      "  param.data.copy_(torch.tensor(value, dtype=torch.float64))\n"
     ]
    }
   ],
   "source": [
    "ms, vs = predict(bsgp_model, data_uci.X_test, args.num_posterior_samples)\n",
    "mnll = compute_mnll(ms, vs, data_uci.Y_test, num_posterior_samples=args.num_posterior_samples, ystd=data_uci.Y_train_std).mean().tolist()\n",
    "print(f'Test MNLL = {mnll}')"
   ]
  },
  {
   "cell_type": "code",
   "execution_count": null,
   "metadata": {},
   "outputs": [],
   "source": []
  }
 ],
 "metadata": {
  "kernelspec": {
   "display_name": "sproj",
   "language": "python",
   "name": "python3"
  },
  "language_info": {
   "codemirror_mode": {
    "name": "ipython",
    "version": 3
   },
   "file_extension": ".py",
   "mimetype": "text/x-python",
   "name": "python",
   "nbconvert_exporter": "python",
   "pygments_lexer": "ipython3",
   "version": "3.8.17"
  }
 },
 "nbformat": 4,
 "nbformat_minor": 2
}
