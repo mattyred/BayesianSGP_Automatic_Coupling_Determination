{
 "cells": [
  {
   "cell_type": "code",
   "execution_count": 1,
   "metadata": {},
   "outputs": [],
   "source": [
    "import torch\n",
    "import numpy as np\n",
    "from src.datasets.uci_loader import UCIDataset\n",
    "from src.model_builder import build_model"
   ]
  },
  {
   "cell_type": "markdown",
   "metadata": {},
   "source": [
    "How the model works in BGSP:\n",
    "1. There is a `run_regression.py` file to setup the model classes such as `RegressionModel` and the cmd line arguments\n",
    "2. The `RegressionModel` in `models.py` builds the `DGP` model and launches a training loop with the hmc sampling inside\n",
    "3. The `DGP` class is defined throug different `Layers` and instantiates the TensorFlow session and does the initialization "
   ]
  },
  {
   "cell_type": "code",
   "execution_count": 2,
   "metadata": {},
   "outputs": [],
   "source": [
    "# setting PyTorch\n",
    "\n",
    "from src.misc.settings import settings\n",
    "device = settings.device\n",
    "if device.type == 'cuda':\n",
    "    torch.set_default_tensor_type('torch.cuda.FloatTensor')"
   ]
  },
  {
   "cell_type": "code",
   "execution_count": 3,
   "metadata": {},
   "outputs": [
    {
     "name": "stderr",
     "output_type": "stream",
     "text": [
      "INFO:root:Loading dataset from data/uci/boston.pth\n"
     ]
    },
    {
     "name": "stdout",
     "output_type": "stream",
     "text": [
      "X-train: (422, 13)\n"
     ]
    }
   ],
   "source": [
    "# Load regression UCI dataset\n",
    "\n",
    "data_uci = UCIDataset(dataset_path='data/uci/boston.pth', static_split=True, seed=0)\n",
    "N, D = data_uci.X_train.shape\n",
    "print(f'X-train: {N, D}')"
   ]
  },
  {
   "cell_type": "code",
   "execution_count": 4,
   "metadata": {},
   "outputs": [
    {
     "ename": "AttributeError",
     "evalue": "'RBF' object has no attribute 'input_dim'",
     "output_type": "error",
     "traceback": [
      "\u001b[0;31m---------------------------------------------------------------------------\u001b[0m",
      "\u001b[0;31mAttributeError\u001b[0m                            Traceback (most recent call last)",
      "\u001b[1;32m/Users/mattiarosso/Desktop/ML/BSGPtorch/train_bsgp_model_nb.ipynb Cell 5\u001b[0m line \u001b[0;36m1\n\u001b[1;32m     <a href='vscode-notebook-cell:/Users/mattiarosso/Desktop/ML/BSGPtorch/train_bsgp_model_nb.ipynb#W5sZmlsZQ%3D%3D?line=11'>12</a>\u001b[0m     mdecay \u001b[39m=\u001b[39m \u001b[39m0.05\u001b[39m\n\u001b[1;32m     <a href='vscode-notebook-cell:/Users/mattiarosso/Desktop/ML/BSGPtorch/train_bsgp_model_nb.ipynb#W5sZmlsZQ%3D%3D?line=12'>13</a>\u001b[0m args \u001b[39m=\u001b[39m ARGS()\n\u001b[0;32m---> <a href='vscode-notebook-cell:/Users/mattiarosso/Desktop/ML/BSGPtorch/train_bsgp_model_nb.ipynb#W5sZmlsZQ%3D%3D?line=14'>15</a>\u001b[0m bsgp_model \u001b[39m=\u001b[39m build_model(data_uci\u001b[39m.\u001b[39;49mX_train, data_uci\u001b[39m.\u001b[39;49mY_train, args)\n",
      "File \u001b[0;32m~/Desktop/ML/BSGPtorch/src/model_builder.py:33\u001b[0m, in \u001b[0;36mbuild_model\u001b[0;34m(X, Y, args)\u001b[0m\n\u001b[1;32m     30\u001b[0m     D_out \u001b[39m=\u001b[39m \u001b[39m196\u001b[39m \u001b[39mif\u001b[39;00m i \u001b[39m>\u001b[39m\u001b[39m=\u001b[39m \u001b[39m1\u001b[39m \u001b[39mand\u001b[39;00m D \u001b[39m>\u001b[39m \u001b[39m700\u001b[39m \u001b[39melse\u001b[39;00m D\n\u001b[1;32m     31\u001b[0m     kernels\u001b[39m.\u001b[39mappend(RBF(D_in\u001b[39m=\u001b[39mD, D_out\u001b[39m=\u001b[39mD_out, dimwise\u001b[39m=\u001b[39m\u001b[39mFalse\u001b[39;00m))\n\u001b[0;32m---> 33\u001b[0m gp \u001b[39m=\u001b[39m BSGP(X\u001b[39m=\u001b[39;49mX, Y\u001b[39m=\u001b[39;49mY, \n\u001b[1;32m     34\u001b[0m           num_inducing \u001b[39m=\u001b[39;49m args\u001b[39m.\u001b[39;49mnum_inducing,\n\u001b[1;32m     35\u001b[0m           kernels \u001b[39m=\u001b[39;49m kernels, \n\u001b[1;32m     36\u001b[0m           lik \u001b[39m=\u001b[39;49m lik, \n\u001b[1;32m     37\u001b[0m           minibatch_size \u001b[39m=\u001b[39;49m args\u001b[39m.\u001b[39;49mminibatch_size, \n\u001b[1;32m     38\u001b[0m           window_size \u001b[39m=\u001b[39;49m args\u001b[39m.\u001b[39;49mwindow_size, \n\u001b[1;32m     39\u001b[0m           output_dim\u001b[39m=\u001b[39;49m args\u001b[39m.\u001b[39;49moutput_dim, \n\u001b[1;32m     40\u001b[0m           adam_lr \u001b[39m=\u001b[39;49m args\u001b[39m.\u001b[39;49madam_lr, \n\u001b[1;32m     41\u001b[0m           prior_inducing_type \u001b[39m=\u001b[39;49m args\u001b[39m.\u001b[39;49mprior_inducing_type, \n\u001b[1;32m     42\u001b[0m           full_cov \u001b[39m=\u001b[39;49m args\u001b[39m.\u001b[39;49mfull_cov, \n\u001b[1;32m     43\u001b[0m           epsilon \u001b[39m=\u001b[39;49m args\u001b[39m.\u001b[39;49mepsilon, \n\u001b[1;32m     44\u001b[0m           mdecay \u001b[39m=\u001b[39;49m args\u001b[39m.\u001b[39;49mmdecay)\n\u001b[1;32m     46\u001b[0m \u001b[39mreturn\u001b[39;00m gp\n",
      "File \u001b[0;32m~/Desktop/ML/BSGPtorch/src/core/bsgp.py:107\u001b[0m, in \u001b[0;36mBSGP.__init__\u001b[0;34m(self, X, Y, num_inducing, kernels, lik, minibatch_size, window_size, output_dim, adam_lr, prior_inducing_type, full_cov, epsilon, mdecay)\u001b[0m\n\u001b[1;32m    105\u001b[0m \u001b[39mfor\u001b[39;00m l \u001b[39min\u001b[39;00m \u001b[39mrange\u001b[39m(n_layers):\n\u001b[1;32m    106\u001b[0m     outputs \u001b[39m=\u001b[39m \u001b[39mself\u001b[39m\u001b[39m.\u001b[39mkernels[l\u001b[39m+\u001b[39m\u001b[39m1\u001b[39m]\u001b[39m.\u001b[39mD_in \u001b[39mif\u001b[39;00m l\u001b[39m+\u001b[39m\u001b[39m1\u001b[39m \u001b[39m<\u001b[39m n_layers \u001b[39melse\u001b[39;00m \u001b[39mself\u001b[39m\u001b[39m.\u001b[39moutput_dim\n\u001b[0;32m--> 107\u001b[0m     \u001b[39mself\u001b[39m\u001b[39m.\u001b[39mlayers\u001b[39m.\u001b[39mappend(BSGP_Layer(\u001b[39mself\u001b[39;49m\u001b[39m.\u001b[39;49mkernels[l], \n\u001b[1;32m    108\u001b[0m                                   outputs, \n\u001b[1;32m    109\u001b[0m                                   num_inducing, \n\u001b[1;32m    110\u001b[0m                                   fixed_mean\u001b[39m=\u001b[39;49m(l\u001b[39m+\u001b[39;49m\u001b[39m1\u001b[39;49m \u001b[39m<\u001b[39;49m n_layers),\n\u001b[1;32m    111\u001b[0m                                   X\u001b[39m=\u001b[39;49mX_running, \n\u001b[1;32m    112\u001b[0m                                   full_cov\u001b[39m=\u001b[39;49mfull_cov \u001b[39mif\u001b[39;49;00m l\u001b[39m+\u001b[39;49m\u001b[39m1\u001b[39;49m\u001b[39m<\u001b[39;49mn_layers \u001b[39melse\u001b[39;49;00m \u001b[39mFalse\u001b[39;49;00m, \n\u001b[1;32m    113\u001b[0m                                   prior_type\u001b[39m=\u001b[39;49mprior_inducing_type))\n\u001b[1;32m    114\u001b[0m     X_running \u001b[39m=\u001b[39m np\u001b[39m.\u001b[39mmatmul(X_running, \u001b[39mself\u001b[39m\u001b[39m.\u001b[39mlayers[\u001b[39m-\u001b[39m\u001b[39m1\u001b[39m]\u001b[39m.\u001b[39mmean)\n\u001b[1;32m    116\u001b[0m variables \u001b[39m=\u001b[39m []\n",
      "File \u001b[0;32m~/Desktop/ML/BSGPtorch/src/core/bsgp.py:28\u001b[0m, in \u001b[0;36mBSGP_Layer.__init__\u001b[0;34m(self, kern, outputs, num_inducing, fixed_mean, X, full_cov, prior_type)\u001b[0m\n\u001b[1;32m     26\u001b[0m \u001b[39mdef\u001b[39;00m \u001b[39m__init__\u001b[39m(\u001b[39mself\u001b[39m, kern, outputs, num_inducing, fixed_mean, X, full_cov, prior_type\u001b[39m=\u001b[39m\u001b[39m\"\u001b[39m\u001b[39muniform\u001b[39m\u001b[39m\"\u001b[39m):\n\u001b[1;32m     27\u001b[0m     \u001b[39msuper\u001b[39m(BSGP_Layer, \u001b[39mself\u001b[39m)\u001b[39m.\u001b[39m\u001b[39m__init__\u001b[39m()\n\u001b[0;32m---> 28\u001b[0m     \u001b[39mself\u001b[39m\u001b[39m.\u001b[39minputs, \u001b[39mself\u001b[39m\u001b[39m.\u001b[39moutputs, \u001b[39mself\u001b[39m\u001b[39m.\u001b[39mkernel \u001b[39m=\u001b[39m kern\u001b[39m.\u001b[39;49minput_dim, outputs, kern\n\u001b[1;32m     29\u001b[0m     \u001b[39mself\u001b[39m\u001b[39m.\u001b[39mM, \u001b[39mself\u001b[39m\u001b[39m.\u001b[39mfixed_mean \u001b[39m=\u001b[39m num_inducing, fixed_mean\n\u001b[1;32m     30\u001b[0m     \u001b[39mself\u001b[39m\u001b[39m.\u001b[39mfull_cov \u001b[39m=\u001b[39m full_cov\n",
      "File \u001b[0;32m~/opt/anaconda3/envs/sproj/lib/python3.8/site-packages/torch/nn/modules/module.py:1269\u001b[0m, in \u001b[0;36mModule.__getattr__\u001b[0;34m(self, name)\u001b[0m\n\u001b[1;32m   1267\u001b[0m     \u001b[39mif\u001b[39;00m name \u001b[39min\u001b[39;00m modules:\n\u001b[1;32m   1268\u001b[0m         \u001b[39mreturn\u001b[39;00m modules[name]\n\u001b[0;32m-> 1269\u001b[0m \u001b[39mraise\u001b[39;00m \u001b[39mAttributeError\u001b[39;00m(\u001b[39m\"\u001b[39m\u001b[39m'\u001b[39m\u001b[39m{}\u001b[39;00m\u001b[39m'\u001b[39m\u001b[39m object has no attribute \u001b[39m\u001b[39m'\u001b[39m\u001b[39m{}\u001b[39;00m\u001b[39m'\u001b[39m\u001b[39m\"\u001b[39m\u001b[39m.\u001b[39mformat(\n\u001b[1;32m   1270\u001b[0m     \u001b[39mtype\u001b[39m(\u001b[39mself\u001b[39m)\u001b[39m.\u001b[39m\u001b[39m__name__\u001b[39m, name))\n",
      "\u001b[0;31mAttributeError\u001b[0m: 'RBF' object has no attribute 'input_dim'"
     ]
    }
   ],
   "source": [
    "#  Instantiate a model\n",
    "class ARGS():\n",
    "    num_inducing = 100\n",
    "    n_layers = 1\n",
    "    minibatch_size = 100\n",
    "    window_size = 64\n",
    "    output_dim= D\n",
    "    adam_lr = 0.01\n",
    "    prior_inducing_type = \"uniform\"\n",
    "    full_cov = False\n",
    "    epsilon = 0.01\n",
    "    mdecay = 0.05\n",
    "args = ARGS()\n",
    "\n",
    "bsgp_model = build_model(data_uci.X_train, data_uci.Y_train, args)"
   ]
  },
  {
   "cell_type": "code",
   "execution_count": null,
   "metadata": {},
   "outputs": [],
   "source": []
  }
 ],
 "metadata": {
  "kernelspec": {
   "display_name": "sproj",
   "language": "python",
   "name": "python3"
  },
  "language_info": {
   "codemirror_mode": {
    "name": "ipython",
    "version": 3
   },
   "file_extension": ".py",
   "mimetype": "text/x-python",
   "name": "python",
   "nbconvert_exporter": "python",
   "pygments_lexer": "ipython3",
   "version": "3.8.16"
  }
 },
 "nbformat": 4,
 "nbformat_minor": 2
}
