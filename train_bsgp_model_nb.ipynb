{
 "cells": [
  {
   "cell_type": "code",
   "execution_count": 1,
   "metadata": {},
   "outputs": [],
   "source": [
    "import torch\n",
    "import numpy as np\n",
    "from src.datasets.uci_loader import UCIDataset\n",
    "from src.model_builder import build_model\n",
    "%load_ext autoreload\n",
    "%autoreload 2"
   ]
  },
  {
   "cell_type": "markdown",
   "metadata": {},
   "source": [
    "How the model works in BGSP:\n",
    "1. There is a `run_regression.py` file to setup the model classes such as `RegressionModel` and the cmd line arguments\n",
    "2. The `RegressionModel` in `models.py` builds the `DGP` model and launches a training loop with the hmc sampling inside\n",
    "3. The `DGP` class is defined throug different `Layers` and instantiates the TensorFlow session and does the initialization "
   ]
  },
  {
   "cell_type": "code",
   "execution_count": 2,
   "metadata": {},
   "outputs": [
    {
     "name": "stderr",
     "output_type": "stream",
     "text": [
      "/home/adm_kconstantin/miniconda3/envs/bsgp_env/lib/python3.8/site-packages/torch/__init__.py:614: UserWarning: torch.set_default_tensor_type() is deprecated as of PyTorch 2.1, please use torch.set_default_dtype() and torch.set_default_device() as alternatives. (Triggered internally at ../torch/csrc/tensor/python_tensor.cpp:451.)\n",
      "  _C._set_default_tensor_type(t)\n"
     ]
    }
   ],
   "source": [
    "# setting PyTorch\n",
    "\n",
    "from src.misc.settings import settings\n",
    "device = settings.device\n",
    "if device.type == 'cuda':\n",
    "    torch.set_default_tensor_type('torch.cuda.FloatTensor')"
   ]
  },
  {
   "cell_type": "code",
   "execution_count": 3,
   "metadata": {},
   "outputs": [
    {
     "name": "stderr",
     "output_type": "stream",
     "text": [
      "INFO:root:Loading dataset from data/uci/boston.pth\n"
     ]
    },
    {
     "name": "stdout",
     "output_type": "stream",
     "text": [
      "X-train: (402, 13)\n"
     ]
    }
   ],
   "source": [
    "# Load regression UCI dataset\n",
    "\n",
    "data_uci = UCIDataset(dataset_path='data/uci/boston.pth', static_split=True, seed=0)\n",
    "N, D = data_uci.X_train.shape\n",
    "print(f'X-train: {N, D}')"
   ]
  },
  {
   "cell_type": "code",
   "execution_count": 5,
   "metadata": {},
   "outputs": [
    {
     "ename": "AttributeError",
     "evalue": "'RBF' object has no attribute 'Kdiag'",
     "output_type": "error",
     "traceback": [
      "\u001b[0;31m---------------------------------------------------------------------------\u001b[0m",
      "\u001b[0;31mAttributeError\u001b[0m                            Traceback (most recent call last)",
      "\u001b[1;32m/home/adm_kconstantin/Desktop/BSGP_Project/BSGPtorch/train_bsgp_model_nb.ipynb Cell 5\u001b[0m line \u001b[0;36m1\n\u001b[1;32m     <a href='vscode-notebook-cell:/home/adm_kconstantin/Desktop/BSGP_Project/BSGPtorch/train_bsgp_model_nb.ipynb#W4sZmlsZQ%3D%3D?line=11'>12</a>\u001b[0m     mdecay \u001b[39m=\u001b[39m \u001b[39m0.05\u001b[39m\n\u001b[1;32m     <a href='vscode-notebook-cell:/home/adm_kconstantin/Desktop/BSGP_Project/BSGPtorch/train_bsgp_model_nb.ipynb#W4sZmlsZQ%3D%3D?line=12'>13</a>\u001b[0m args \u001b[39m=\u001b[39m ARGS()\n\u001b[0;32m---> <a href='vscode-notebook-cell:/home/adm_kconstantin/Desktop/BSGP_Project/BSGPtorch/train_bsgp_model_nb.ipynb#W4sZmlsZQ%3D%3D?line=14'>15</a>\u001b[0m bsgp_model \u001b[39m=\u001b[39m build_model(data_uci\u001b[39m.\u001b[39;49mX_train, data_uci\u001b[39m.\u001b[39;49mY_train, args)\n",
      "File \u001b[0;32m~/Desktop/BSGP_Project/BSGPtorch/src/model_builder.py:33\u001b[0m, in \u001b[0;36mbuild_model\u001b[0;34m(X, Y, args)\u001b[0m\n\u001b[1;32m     30\u001b[0m     D_out \u001b[39m=\u001b[39m \u001b[39m196\u001b[39m \u001b[39mif\u001b[39;00m i \u001b[39m>\u001b[39m\u001b[39m=\u001b[39m \u001b[39m1\u001b[39m \u001b[39mand\u001b[39;00m D \u001b[39m>\u001b[39m \u001b[39m700\u001b[39m \u001b[39melse\u001b[39;00m D\n\u001b[1;32m     31\u001b[0m     kernels\u001b[39m.\u001b[39mappend(RBF(D_in\u001b[39m=\u001b[39mD, D_out\u001b[39m=\u001b[39mD_out, dimwise\u001b[39m=\u001b[39m\u001b[39mFalse\u001b[39;00m))\n\u001b[0;32m---> 33\u001b[0m gp \u001b[39m=\u001b[39m BSGP(X\u001b[39m=\u001b[39;49mX, Y\u001b[39m=\u001b[39;49mY, \n\u001b[1;32m     34\u001b[0m           num_inducing \u001b[39m=\u001b[39;49m args\u001b[39m.\u001b[39;49mnum_inducing,\n\u001b[1;32m     35\u001b[0m           kernels \u001b[39m=\u001b[39;49m kernels, \n\u001b[1;32m     36\u001b[0m           lik \u001b[39m=\u001b[39;49m lik, \n\u001b[1;32m     37\u001b[0m           minibatch_size \u001b[39m=\u001b[39;49m args\u001b[39m.\u001b[39;49mminibatch_size, \n\u001b[1;32m     38\u001b[0m           window_size \u001b[39m=\u001b[39;49m args\u001b[39m.\u001b[39;49mwindow_size, \n\u001b[1;32m     39\u001b[0m           output_dim\u001b[39m=\u001b[39;49m args\u001b[39m.\u001b[39;49moutput_dim, \n\u001b[1;32m     40\u001b[0m           adam_lr \u001b[39m=\u001b[39;49m args\u001b[39m.\u001b[39;49madam_lr, \n\u001b[1;32m     41\u001b[0m           prior_inducing_type \u001b[39m=\u001b[39;49m args\u001b[39m.\u001b[39;49mprior_inducing_type, \n\u001b[1;32m     42\u001b[0m           full_cov \u001b[39m=\u001b[39;49m args\u001b[39m.\u001b[39;49mfull_cov, \n\u001b[1;32m     43\u001b[0m           epsilon \u001b[39m=\u001b[39;49m args\u001b[39m.\u001b[39;49mepsilon, \n\u001b[1;32m     44\u001b[0m           mdecay \u001b[39m=\u001b[39;49m args\u001b[39m.\u001b[39;49mmdecay)\n\u001b[1;32m     46\u001b[0m \u001b[39mreturn\u001b[39;00m gp\n",
      "File \u001b[0;32m~/Desktop/BSGP_Project/BSGPtorch/src/core/bsgp.py:120\u001b[0m, in \u001b[0;36mBSGP.__init__\u001b[0;34m(self, X, Y, num_inducing, kernels, lik, minibatch_size, window_size, output_dim, adam_lr, prior_inducing_type, full_cov, epsilon, mdecay)\u001b[0m\n\u001b[1;32m    117\u001b[0m \u001b[39mfor\u001b[39;00m l \u001b[39min\u001b[39;00m \u001b[39mself\u001b[39m\u001b[39m.\u001b[39mlayers:\n\u001b[1;32m    118\u001b[0m     variables \u001b[39m+\u001b[39m\u001b[39m=\u001b[39m [l\u001b[39m.\u001b[39mU, l\u001b[39m.\u001b[39mZ, l\u001b[39m.\u001b[39mkernel\u001b[39m.\u001b[39mlengthscales, l\u001b[39m.\u001b[39mkernel\u001b[39m.\u001b[39mvariance]\n\u001b[0;32m--> 120\u001b[0m \u001b[39mself\u001b[39m\u001b[39m.\u001b[39mf, \u001b[39mself\u001b[39m\u001b[39m.\u001b[39mfmeans, \u001b[39mself\u001b[39m\u001b[39m.\u001b[39mfvars \u001b[39m=\u001b[39m \u001b[39mself\u001b[39;49m\u001b[39m.\u001b[39;49mpropagate(torch\u001b[39m.\u001b[39;49mtensor(X_running, dtype\u001b[39m=\u001b[39;49mtorch\u001b[39m.\u001b[39;49mfloat32))\n\u001b[1;32m    121\u001b[0m \u001b[39mself\u001b[39m\u001b[39m.\u001b[39my_mean, \u001b[39mself\u001b[39m\u001b[39m.\u001b[39my_var \u001b[39m=\u001b[39m \u001b[39mself\u001b[39m\u001b[39m.\u001b[39mlikelihood\u001b[39m.\u001b[39mpredict_mean_and_var(\u001b[39mself\u001b[39m\u001b[39m.\u001b[39mfmeans[\u001b[39m-\u001b[39m\u001b[39m1\u001b[39m], \u001b[39mself\u001b[39m\u001b[39m.\u001b[39mfvars[\u001b[39m-\u001b[39m\u001b[39m1\u001b[39m])\n\u001b[1;32m    123\u001b[0m \u001b[39mself\u001b[39m\u001b[39m.\u001b[39mprior \u001b[39m=\u001b[39m \u001b[39msum\u001b[39m([l\u001b[39m.\u001b[39mprior() \u001b[39mfor\u001b[39;00m l \u001b[39min\u001b[39;00m \u001b[39mself\u001b[39m\u001b[39m.\u001b[39mlayers])\n",
      "File \u001b[0;32m~/Desktop/BSGP_Project/BSGPtorch/src/core/bsgp.py:136\u001b[0m, in \u001b[0;36mBSGP.propagate\u001b[0;34m(self, X)\u001b[0m\n\u001b[1;32m    133\u001b[0m Fmeans, Fvars \u001b[39m=\u001b[39m [], []\n\u001b[1;32m    135\u001b[0m \u001b[39mfor\u001b[39;00m l, layer \u001b[39min\u001b[39;00m \u001b[39menumerate\u001b[39m(\u001b[39mself\u001b[39m\u001b[39m.\u001b[39mlayers):\n\u001b[0;32m--> 136\u001b[0m     mean, var \u001b[39m=\u001b[39m layer\u001b[39m.\u001b[39;49mconditional(Fs[\u001b[39m-\u001b[39;49m\u001b[39m1\u001b[39;49m])\n\u001b[1;32m    137\u001b[0m     \u001b[39m# eps = tf.random_normal(tf.shape(mean), dtype=tf.float64)\u001b[39;00m\n\u001b[1;32m    138\u001b[0m     \u001b[39m# F = mean + eps * tf.sqrt(var)\u001b[39;00m\n\u001b[1;32m    139\u001b[0m     \u001b[39mif\u001b[39;00m l\u001b[39m+\u001b[39m\u001b[39m1\u001b[39m \u001b[39m<\u001b[39m \u001b[39mlen\u001b[39m(\u001b[39mself\u001b[39m\u001b[39m.\u001b[39mlayers):\n",
      "File \u001b[0;32m~/Desktop/BSGP_Project/BSGPtorch/src/core/bsgp.py:56\u001b[0m, in \u001b[0;36mBSGP_Layer.conditional\u001b[0;34m(self, X)\u001b[0m\n\u001b[1;32m     54\u001b[0m \u001b[39mdef\u001b[39;00m \u001b[39mconditional\u001b[39m(\u001b[39mself\u001b[39m, X):\n\u001b[0;32m---> 56\u001b[0m     mean, var, \u001b[39mself\u001b[39m\u001b[39m.\u001b[39mLm \u001b[39m=\u001b[39m conditional(X, \u001b[39mself\u001b[39;49m\u001b[39m.\u001b[39;49mZ, \u001b[39mself\u001b[39;49m\u001b[39m.\u001b[39;49mkernel, \u001b[39mself\u001b[39;49m\u001b[39m.\u001b[39;49mU, white\u001b[39m=\u001b[39;49m\u001b[39mTrue\u001b[39;49;00m, full_cov\u001b[39m=\u001b[39;49m\u001b[39mself\u001b[39;49m\u001b[39m.\u001b[39;49mfull_cov, return_Lm\u001b[39m=\u001b[39;49m\u001b[39mTrue\u001b[39;49;00m)\n\u001b[1;32m     58\u001b[0m     \u001b[39mif\u001b[39;00m \u001b[39mself\u001b[39m\u001b[39m.\u001b[39mfixed_mean:\n\u001b[1;32m     59\u001b[0m         mean \u001b[39m+\u001b[39m\u001b[39m=\u001b[39m torch\u001b[39m.\u001b[39mmatmul(X, torch\u001b[39m.\u001b[39mcast(\u001b[39mself\u001b[39m\u001b[39m.\u001b[39mmean, torch\u001b[39m.\u001b[39mfloat64))\n",
      "File \u001b[0;32m~/Desktop/BSGP_Project/BSGPtorch/src/core/conditionals.py:100\u001b[0m, in \u001b[0;36mconditional\u001b[0;34m(Xnew, X, kern, f, full_cov, q_sqrt, white, return_Lm)\u001b[0m\n\u001b[1;32m     98\u001b[0m     Knn \u001b[39m=\u001b[39m kern\u001b[39m.\u001b[39mK(Xnew)\n\u001b[1;32m     99\u001b[0m \u001b[39melse\u001b[39;00m:\n\u001b[0;32m--> 100\u001b[0m     Knn \u001b[39m=\u001b[39m kern\u001b[39m.\u001b[39;49mKdiag(Xnew)\n\u001b[1;32m    102\u001b[0m \u001b[39mreturn\u001b[39;00m base_conditional(Kmn, Kmm, Knn, f, full_cov\u001b[39m=\u001b[39mfull_cov, q_sqrt\u001b[39m=\u001b[39mq_sqrt, white\u001b[39m=\u001b[39mwhite, return_Lm\u001b[39m=\u001b[39mreturn_Lm)\n",
      "File \u001b[0;32m~/miniconda3/envs/bsgp_env/lib/python3.8/site-packages/torch/nn/modules/module.py:1695\u001b[0m, in \u001b[0;36mModule.__getattr__\u001b[0;34m(self, name)\u001b[0m\n\u001b[1;32m   1693\u001b[0m     \u001b[39mif\u001b[39;00m name \u001b[39min\u001b[39;00m modules:\n\u001b[1;32m   1694\u001b[0m         \u001b[39mreturn\u001b[39;00m modules[name]\n\u001b[0;32m-> 1695\u001b[0m \u001b[39mraise\u001b[39;00m \u001b[39mAttributeError\u001b[39;00m(\u001b[39mf\u001b[39m\u001b[39m\"\u001b[39m\u001b[39m'\u001b[39m\u001b[39m{\u001b[39;00m\u001b[39mtype\u001b[39m(\u001b[39mself\u001b[39m)\u001b[39m.\u001b[39m\u001b[39m__name__\u001b[39m\u001b[39m}\u001b[39;00m\u001b[39m'\u001b[39m\u001b[39m object has no attribute \u001b[39m\u001b[39m'\u001b[39m\u001b[39m{\u001b[39;00mname\u001b[39m}\u001b[39;00m\u001b[39m'\u001b[39m\u001b[39m\"\u001b[39m)\n",
      "\u001b[0;31mAttributeError\u001b[0m: 'RBF' object has no attribute 'Kdiag'"
     ]
    }
   ],
   "source": [
    "#  Instantiate a model\n",
    "class ARGS():\n",
    "    num_inducing = 100\n",
    "    n_layers = 1\n",
    "    minibatch_size = 100\n",
    "    window_size = 64\n",
    "    output_dim= D\n",
    "    adam_lr = 0.01\n",
    "    prior_inducing_type = \"uniform\"\n",
    "    full_cov = False\n",
    "    epsilon = 0.01\n",
    "    mdecay = 0.05\n",
    "args = ARGS()\n",
    "\n",
    "bsgp_model = build_model(data_uci.X_train, data_uci.Y_train, args)"
   ]
  },
  {
   "cell_type": "code",
   "execution_count": null,
   "metadata": {},
   "outputs": [],
   "source": []
  }
 ],
 "metadata": {
  "kernelspec": {
   "display_name": "sproj",
   "language": "python",
   "name": "python3"
  },
  "language_info": {
   "codemirror_mode": {
    "name": "ipython",
    "version": 3
   },
   "file_extension": ".py",
   "mimetype": "text/x-python",
   "name": "python",
   "nbconvert_exporter": "python",
   "pygments_lexer": "ipython3",
   "version": "3.8.17"
  }
 },
 "nbformat": 4,
 "nbformat_minor": 2
}
