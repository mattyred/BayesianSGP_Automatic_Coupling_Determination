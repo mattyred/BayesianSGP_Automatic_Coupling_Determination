{
 "cells": [
  {
   "cell_type": "code",
   "execution_count": 1,
   "metadata": {},
   "outputs": [
    {
     "name": "stderr",
     "output_type": "stream",
     "text": [
      "/home/adm_kconstantin/miniconda3/envs/bsgp_env/lib/python3.8/site-packages/torch/__init__.py:614: UserWarning: torch.set_default_tensor_type() is deprecated as of PyTorch 2.1, please use torch.set_default_dtype() and torch.set_default_device() as alternatives. (Triggered internally at ../torch/csrc/tensor/python_tensor.cpp:451.)\n",
      "  _C._set_default_tensor_type(t)\n",
      "INFO:root:Loading dataset from data/uci/boston.pth\n"
     ]
    },
    {
     "name": "stdout",
     "output_type": "stream",
     "text": [
      "X-train: (405, 13)\n"
     ]
    }
   ],
   "source": [
    "import torch\n",
    "import numpy as np\n",
    "from src.datasets.uci_loader import UCIDataset\n",
    "import seaborn as sns\n",
    "from src.model_builder import build_model, sghmc_sampling, print_sample_performance, collect_samples, predict_y, compute_mnll, predict\n",
    "from torchviz import make_dot\n",
    "%load_ext autoreload\n",
    "%autoreload 2\n",
    "\n",
    "# setting PyTorch\n",
    "\n",
    "from src.misc.settings import settings\n",
    "device = settings.device\n",
    "if device.type == 'cuda':\n",
    "    torch.set_default_tensor_type('torch.cuda.FloatTensor')\n",
    "\n",
    " # Load regression UCI dataset\n",
    "\n",
    "data_uci = UCIDataset(dataset_path='data/uci/boston.pth', static_split=True, seed=0)\n",
    "N, D = data_uci.X_train.shape\n",
    "print(f'X-train: {N, D}')"
   ]
  },
  {
   "cell_type": "markdown",
   "metadata": {},
   "source": [
    "How the model works in BGSP:\n",
    "1. There is a `run_regression.py` file to setup the model classes such as `RegressionModel` and the cmd line arguments\n",
    "2. The `RegressionModel` in `models.py` builds the `DGP` model and launches a training loop with the hmc sampling inside\n",
    "3. The `DGP` class is defined throug different `Layers` and instantiates the TensorFlow session and does the initialization "
   ]
  },
  {
   "cell_type": "code",
   "execution_count": 6,
   "metadata": {},
   "outputs": [],
   "source": [
    "#  Instantiate a model\n",
    "class ARGS():\n",
    "    num_inducing = 100\n",
    "    n_layers = 1\n",
    "    minibatch_size = 100\n",
    "    window_size = 64\n",
    "    output_dim= 1\n",
    "    adam_lr = 0.01\n",
    "    prior_inducing_type = \"uniform\"\n",
    "    full_cov = False\n",
    "    epsilon = 0.01\n",
    "    mdecay = 0.05\n",
    "    iterations = 4096\n",
    "    num_posterior_samples = 256\n",
    "    posterior_sample_spacing = 32\n",
    "args = ARGS()\n",
    "\n",
    "bsgp_model = build_model(data_uci.X_train, data_uci.Y_train, args)\n",
    "#make_dot(nll, params={'nll': nll}).render(\"computation_graph\", format=\"png\", cleanup=True)"
   ]
  },
  {
   "cell_type": "code",
   "execution_count": 7,
   "metadata": {},
   "outputs": [
    {
     "name": "stdout",
     "output_type": "stream",
     "text": [
      "TRAIN | iter =      1      sample marginal LL = -1.65\n",
      "TRAIN | iter =     51      sample marginal LL = -1.74\n",
      "TRAIN | iter =    101      sample marginal LL = -1.66\n",
      "TRAIN | iter =    151      sample marginal LL = -1.75\n",
      "TRAIN | iter =    201      sample marginal LL = -1.67\n",
      "TRAIN | iter =    251      sample marginal LL = -1.62\n",
      "TRAIN | iter =    301      sample marginal LL = -1.68\n",
      "TRAIN | iter =    351      sample marginal LL = -1.58\n",
      "TRAIN | iter =    401      sample marginal LL = -1.59\n",
      "TRAIN | iter =    451      sample marginal LL = -1.62\n",
      "TRAIN | iter =    501      sample marginal LL = -1.53\n",
      "TRAIN | iter =    551      sample marginal LL = -1.55\n",
      "TRAIN | iter =    601      sample marginal LL = -1.70\n",
      "TRAIN | iter =    651      sample marginal LL = -1.67\n",
      "TRAIN | iter =    701      sample marginal LL = -1.57\n",
      "TRAIN | iter =    751      sample marginal LL = -1.77\n",
      "TRAIN | iter =    801      sample marginal LL = -1.67\n",
      "TRAIN | iter =    851      sample marginal LL = -1.73\n",
      "TRAIN | iter =    901      sample marginal LL = -1.59\n",
      "TRAIN | iter =    951      sample marginal LL = -1.55\n",
      "TRAIN | iter =   1001      sample marginal LL = -1.60\n",
      "TRAIN | iter =   1051      sample marginal LL = -1.64\n",
      "TRAIN | iter =   1101      sample marginal LL = -1.74\n",
      "TRAIN | iter =   1151      sample marginal LL = -1.61\n",
      "TRAIN | iter =   1201      sample marginal LL = -1.59\n",
      "TRAIN | iter =   1251      sample marginal LL = -1.54\n",
      "TRAIN | iter =   1301      sample marginal LL = -1.58\n",
      "TRAIN | iter =   1351      sample marginal LL = -1.66\n",
      "TRAIN | iter =   1401      sample marginal LL = -1.52\n",
      "TRAIN | iter =   1451      sample marginal LL = -1.59\n",
      "TRAIN | iter =   1501      sample marginal LL = -1.65\n",
      "TRAIN | iter =   1551      sample marginal LL = -1.76\n",
      "TRAIN | iter =   1601      sample marginal LL = -1.67\n",
      "TRAIN | iter =   1651      sample marginal LL = -1.68\n",
      "TRAIN | iter =   1701      sample marginal LL = -1.64\n",
      "TRAIN | iter =   1751      sample marginal LL = -1.57\n",
      "TRAIN | iter =   1801      sample marginal LL = -1.71\n",
      "TRAIN | iter =   1851      sample marginal LL = -1.73\n",
      "TRAIN | iter =   1901      sample marginal LL = -1.61\n",
      "TRAIN | iter =   1951      sample marginal LL = -1.54\n",
      "TRAIN | iter =   2001      sample marginal LL = -1.36\n",
      "TRAIN | iter =   2051      sample marginal LL = -1.55\n",
      "TRAIN | iter =   2101      sample marginal LL = -1.52\n",
      "TRAIN | iter =   2151      sample marginal LL = -1.62\n",
      "TRAIN | iter =   2201      sample marginal LL = -1.52\n",
      "TRAIN | iter =   2251      sample marginal LL = -1.56\n",
      "TRAIN | iter =   2301      sample marginal LL = -1.51\n",
      "TRAIN | iter =   2351      sample marginal LL = -1.49\n",
      "TRAIN | iter =   2401      sample marginal LL = -1.62\n",
      "TRAIN | iter =   2451      sample marginal LL = -1.47\n",
      "TRAIN | iter =   2501      sample marginal LL = -1.46\n",
      "TRAIN | iter =   2551      sample marginal LL = -1.54\n",
      "TRAIN | iter =   2601      sample marginal LL = -1.61\n",
      "TRAIN | iter =   2651      sample marginal LL = -1.65\n",
      "TRAIN | iter =   2701      sample marginal LL = -1.62\n",
      "TRAIN | iter =   2751      sample marginal LL = -1.58\n",
      "TRAIN | iter =   2801      sample marginal LL = -1.57\n",
      "TRAIN | iter =   2851      sample marginal LL = -1.68\n",
      "TRAIN | iter =   2901      sample marginal LL = -1.55\n",
      "TRAIN | iter =   2951      sample marginal LL = -1.56\n",
      "TRAIN | iter =   3001      sample marginal LL = -1.55\n",
      "TRAIN | iter =   3051      sample marginal LL = -1.68\n",
      "TRAIN | iter =   3101      sample marginal LL = -1.56\n",
      "TRAIN | iter =   3151      sample marginal LL = -1.68\n",
      "TRAIN | iter =   3201      sample marginal LL = -1.53\n",
      "TRAIN | iter =   3251      sample marginal LL = -1.41\n",
      "TRAIN | iter =   3301      sample marginal LL = -1.59\n",
      "TRAIN | iter =   3351      sample marginal LL = -1.56\n",
      "TRAIN | iter =   3401      sample marginal LL = -1.57\n",
      "TRAIN | iter =   3451      sample marginal LL = -1.43\n",
      "TRAIN | iter =   3501      sample marginal LL = -1.61\n",
      "TRAIN | iter =   3551      sample marginal LL = -1.50\n",
      "TRAIN | iter =   3601      sample marginal LL = -1.53\n",
      "TRAIN | iter =   3651      sample marginal LL = -1.62\n",
      "TRAIN | iter =   3701      sample marginal LL = -1.48\n",
      "TRAIN | iter =   3751      sample marginal LL = -1.61\n",
      "TRAIN | iter =   3801      sample marginal LL = -1.53\n",
      "TRAIN | iter =   3851      sample marginal LL = -1.65\n",
      "TRAIN | iter =   3901      sample marginal LL = -1.53\n",
      "TRAIN | iter =   3951      sample marginal LL = -1.58\n",
      "TRAIN | iter =   4001      sample marginal LL = -1.55\n",
      "TRAIN | iter =   4051      sample marginal LL = -1.73\n",
      "Test MNLL = -3.5478263391136267\n"
     ]
    },
    {
     "name": "stderr",
     "output_type": "stream",
     "text": [
      "/home/adm_kconstantin/Desktop/BSGP_Project/BSGPtorch/src/core/bsgp.py:144: UserWarning: To copy construct from a tensor, it is recommended to use sourceTensor.clone().detach() or sourceTensor.clone().detach().requires_grad_(True), rather than torch.tensor(sourceTensor).\n",
      "  for param, value in zip(self.variables, sample.values()):\n"
     ]
    }
   ],
   "source": [
    "bsgp_model.reset(data_uci.X_train, data_uci.Y_train)\n",
    "global_step = 0\n",
    "bsgp_model.zero_grad()\n",
    "for _ in range(args.iterations):\n",
    "    global_step += 1\n",
    "    sample = sghmc_sampling(bsgp_model)\n",
    "    \"\"\"\n",
    "    if args.prior_type == \"determinantal\":\n",
    "        bsgp_model.reset_Lm()\n",
    "        #model.train_hypers() if hasattr(self.model, 'hyper_train_op') else None\n",
    "    \"\"\"\n",
    "    if _ % 50 == 1:\n",
    "        marginal_ll = print_sample_performance(bsgp_model)\n",
    "        print('TRAIN | iter = %6d      sample marginal LL = %5.2f' % (_, marginal_ll))\n",
    "    \n",
    "collect_samples(bsgp_model, args.num_posterior_samples, args.posterior_sample_spacing)\n",
    "\n",
    "ms, vs = predict(bsgp_model, data_uci.X_test, args.num_posterior_samples)\n",
    "mnll = compute_mnll(ms, vs, data_uci.Y_test, num_posterior_samples=args.num_posterior_samples, ystd=data_uci.Y_train_std).mean().tolist()\n",
    "print(f'Test MNLL = {mnll}')"
   ]
  },
  {
   "cell_type": "code",
   "execution_count": 8,
   "metadata": {},
   "outputs": [
    {
     "data": {
      "text/plain": [
       "<Axes: >"
      ]
     },
     "execution_count": 8,
     "metadata": {},
     "output_type": "execute_result"
    },
    {
     "data": {
      "image/png": "[encoded data removed]",
      "text/plain": [
       "<Figure size 640x480 with 1 Axes>"
      ]
     },
     "metadata": {},
     "output_type": "display_data"
    }
   ],
   "source": [
    "m = np.average(ms, 0)\n",
    "v = np.average(vs + ms**2, 0) - m**2\n",
    "sns.scatterplot(x=m.reshape(-1), y=data_uci.Y_test.reshape(-1))"
   ]
  },
  {
   "cell_type": "code",
   "execution_count": 5,
   "metadata": {},
   "outputs": [
    {
     "name": "stdout",
     "output_type": "stream",
     "text": [
      "Test MNLL = -3.514273795408619\n"
     ]
    },
    {
     "name": "stderr",
     "output_type": "stream",
     "text": [
      "/home/adm_kconstantin/Desktop/BSGP_Project/BSGPtorch/src/core/bsgp.py:145: UserWarning: To copy construct from a tensor, it is recommended to use sourceTensor.clone().detach() or sourceTensor.clone().detach().requires_grad_(True), rather than torch.tensor(sourceTensor).\n",
      "  param.data.copy_(torch.tensor(value, dtype=torch.float64))\n"
     ]
    }
   ],
   "source": [
    "ms, vs = predict(bsgp_model, data_uci.X_test, args.num_posterior_samples)\n",
    "mnll = compute_mnll(ms, vs, data_uci.Y_test, num_posterior_samples=args.num_posterior_samples, ystd=data_uci.Y_train_std).mean().tolist()\n",
    "print(f'Test MNLL = {mnll}')"
   ]
  },
  {
   "cell_type": "code",
   "execution_count": null,
   "metadata": {},
   "outputs": [],
   "source": []
  }
 ],
 "metadata": {
  "kernelspec": {
   "display_name": "sproj",
   "language": "python",
   "name": "python3"
  },
  "language_info": {
   "codemirror_mode": {
    "name": "ipython",
    "version": 3
   },
   "file_extension": ".py",
   "mimetype": "text/x-python",
   "name": "python",
   "nbconvert_exporter": "python",
   "pygments_lexer": "ipython3",
   "version": "3.8.17"
  }
 },
 "nbformat": 4,
 "nbformat_minor": 2
}
