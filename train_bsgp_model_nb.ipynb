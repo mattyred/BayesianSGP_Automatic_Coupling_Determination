{
 "cells": [
  {
   "cell_type": "code",
   "execution_count": 1,
   "metadata": {},
   "outputs": [
    {
     "name": "stderr",
     "output_type": "stream",
     "text": [
      "INFO:root:Loading dataset from data/uci/boston.pth\n"
     ]
    },
    {
     "name": "stdout",
     "output_type": "stream",
     "text": [
      "X-train: (406, 13)\n"
     ]
    }
   ],
   "source": [
    "import torch\n",
    "import numpy as np\n",
    "from src.datasets.uci_loader import UCIDataset\n",
    "from src.model_builder import build_model, sghmc_sampling, print_sample_performance, collect_samples, predict_y\n",
    "from torchviz import make_dot\n",
    "%load_ext autoreload\n",
    "%autoreload 2\n",
    "\n",
    "# setting PyTorch\n",
    "\n",
    "from src.misc.settings import settings\n",
    "device = settings.device\n",
    "if device.type == 'cuda':\n",
    "    torch.set_default_tensor_type('torch.cuda.FloatTensor')\n",
    "\n",
    " # Load regression UCI dataset\n",
    "\n",
    "data_uci = UCIDataset(dataset_path='data/uci/boston.pth', static_split=True, seed=0)\n",
    "N, D = data_uci.X_train.shape\n",
    "print(f'X-train: {N, D}')"
   ]
  },
  {
   "cell_type": "markdown",
   "metadata": {},
   "source": [
    "How the model works in BGSP:\n",
    "1. There is a `run_regression.py` file to setup the model classes such as `RegressionModel` and the cmd line arguments\n",
    "2. The `RegressionModel` in `models.py` builds the `DGP` model and launches a training loop with the hmc sampling inside\n",
    "3. The `DGP` class is defined throug different `Layers` and instantiates the TensorFlow session and does the initialization "
   ]
  },
  {
   "cell_type": "code",
   "execution_count": 13,
   "metadata": {},
   "outputs": [],
   "source": [
    "#  Instantiate a model\n",
    "class ARGS():\n",
    "    num_inducing = 100\n",
    "    n_layers = 1\n",
    "    minibatch_size = 100\n",
    "    window_size = 64\n",
    "    output_dim= 1\n",
    "    adam_lr = 0.01\n",
    "    prior_inducing_type = \"uniform\"\n",
    "    full_cov = False\n",
    "    epsilon = 0.01\n",
    "    mdecay = 0.05\n",
    "    iterations = 1024\n",
    "    num_posterior_samples = 10\n",
    "    posterior_sample_spacing = 32\n",
    "args = ARGS()\n",
    "\n",
    "bsgp_model = build_model(data_uci.X_train, data_uci.Y_train, args)\n",
    "#make_dot(nll, params={'nll': nll}).render(\"computation_graph\", format=\"png\", cleanup=True)"
   ]
  },
  {
   "cell_type": "code",
   "execution_count": 15,
   "metadata": {},
   "outputs": [
    {
     "name": "stdout",
     "output_type": "stream",
     "text": [
      "TRAIN | iter =      1      sample marginal LL = -12.55\n",
      "TRAIN | iter =     51      sample marginal LL = -11.34\n",
      "TRAIN | iter =    101      sample marginal LL = -8.10\n",
      "TRAIN | iter =    151      sample marginal LL = -8.10\n",
      "TRAIN | iter =    201      sample marginal LL = -11.64\n",
      "TRAIN | iter =    251      sample marginal LL = -8.44\n",
      "TRAIN | iter =    301      sample marginal LL = -8.39\n",
      "TRAIN | iter =    351      sample marginal LL = -8.78\n",
      "TRAIN | iter =    401      sample marginal LL = -8.78\n",
      "TRAIN | iter =    451      sample marginal LL = -8.78\n",
      "TRAIN | iter =    501      sample marginal LL = -7.46\n",
      "TRAIN | iter =    551      sample marginal LL = -8.45\n",
      "TRAIN | iter =    601      sample marginal LL = -8.27\n",
      "TRAIN | iter =    651      sample marginal LL = -8.06\n",
      "TRAIN | iter =    701      sample marginal LL = -8.71\n",
      "TRAIN | iter =    751      sample marginal LL = -8.03\n",
      "TRAIN | iter =    801      sample marginal LL = -8.61\n",
      "TRAIN | iter =    851      sample marginal LL = -9.02\n",
      "TRAIN | iter =    901      sample marginal LL = -9.26\n",
      "TRAIN | iter =    951      sample marginal LL = -9.47\n",
      "TRAIN | iter =   1001      sample marginal LL = -9.24\n"
     ]
    }
   ],
   "source": [
    "bsgp_model.reset(data_uci.X_train, data_uci.Y_train)\n",
    "global_step = 0\n",
    "for _ in range(args.iterations):\n",
    "    global_step += 1\n",
    "    sample = sghmc_sampling(bsgp_model)\n",
    "    #print(sample[3])\n",
    "    \"\"\"\n",
    "    if args.prior_type == \"determinantal\":\n",
    "        bsgp_model.reset_Lm()\n",
    "        #model.train_hypers() if hasattr(self.model, 'hyper_train_op') else None\n",
    "    \"\"\"\n",
    "    if _ % 50 == 1:\n",
    "        marginal_ll = print_sample_performance(bsgp_model)\n",
    "        print('TRAIN | iter = %6d      sample marginal LL = %5.2f' % (_, marginal_ll))\n",
    "    \n",
    "collect_samples(bsgp_model, args.num_posterior_samples, args.posterior_sample_spacing)\n",
    "\n",
    "ms, vs  = predict_y(bsgp_model, data_uci.X_test, args.num_posterior_samples)\n",
    "m = np.average(ms, 0)\n",
    "v = np.average(vs + ms**2, 0) - m**2\n",
    "import seaborn as sns\n",
    "sns.scatterplot(x=m.reshape(-1), y=data_uci.Y_test.reshape(-1))"
   ]
  },
  {
   "cell_type": "code",
   "execution_count": 12,
   "metadata": {},
   "outputs": [
    {
     "data": {
      "text/plain": [
       "array([[ 1.2766553 ],\n",
       "       [-0.40887564],\n",
       "       [-0.2701926 ],\n",
       "       [-0.9742752 ],\n",
       "       [-0.9422715 ],\n",
       "       [-1.0276147 ],\n",
       "       [ 0.20986366],\n",
       "       [ 0.41255406],\n",
       "       [-0.16351342],\n",
       "       [ 0.24186733],\n",
       "       [ 0.06051267],\n",
       "       [-0.11017384],\n",
       "       [-0.14217772],\n",
       "       [ 0.22053142],\n",
       "       [ 0.01784104],\n",
       "       [-0.05683426],\n",
       "       [ 0.63658035],\n",
       "       [ 0.60457647],\n",
       "       [-0.366204  ],\n",
       "       [-0.43021134],\n",
       "       [-0.45154727],\n",
       "       [-0.16351342],\n",
       "       [-0.4195436 ],\n",
       "       [-0.75024897],\n",
       "       [-0.50488687],\n",
       "       [-0.46221521],\n",
       "       [-0.4942189 ],\n",
       "       [-0.8889319 ],\n",
       "       [-0.13150975],\n",
       "       [-1.0276147 ],\n",
       "       [ 0.45522568],\n",
       "       [ 0.24186733],\n",
       "       [ 0.09251654],\n",
       "       [ 0.7645952 ],\n",
       "       [ 1.8207189 ],\n",
       "       [ 0.67925197],\n",
       "       [ 2.087417  ],\n",
       "       [ 0.24186733],\n",
       "       [ 0.93528193],\n",
       "       [ 0.95661783],\n",
       "       [ 0.25253528],\n",
       "       [ 0.93528193],\n",
       "       [ 0.1031845 ],\n",
       "       [-0.07817017],\n",
       "       [ 0.16719183],\n",
       "       [ 0.22053142],\n",
       "       [-0.08883813],\n",
       "       [ 2.17276   ],\n",
       "       [ 0.8499387 ],\n",
       "       [ 0.26320323],\n",
       "       [ 1.3299949 ],\n",
       "       [ 1.1059685 ],\n",
       "       [ 2.4181225 ],\n",
       "       [ 0.22053142],\n",
       "       [ 0.61524445],\n",
       "       [ 0.668584  ],\n",
       "       [ 0.22053142],\n",
       "       [ 1.426006  ],\n",
       "       [ 0.58324075],\n",
       "       [ 0.00717308],\n",
       "       [-0.7075772 ],\n",
       "       [-0.31286442],\n",
       "       [ 0.03917696],\n",
       "       [ 0.03917696],\n",
       "       [-0.45154727],\n",
       "       [-0.01416263],\n",
       "       [-0.35553604],\n",
       "       [-0.45154727],\n",
       "       [ 0.01784104],\n",
       "       [-0.48355094],\n",
       "       [-0.22752097],\n",
       "       [-0.30219647],\n",
       "       [-0.6329019 ],\n",
       "       [ 2.9088466 ],\n",
       "       [-1.0062789 ],\n",
       "       [-1.3369844 ],\n",
       "       [-1.390324  ],\n",
       "       [-1.5183389 ],\n",
       "       [-1.891716  ],\n",
       "       [-1.753033  ],\n",
       "       [-1.5396748 ],\n",
       "       [-0.5902301 ],\n",
       "       [-0.6862415 ],\n",
       "       [-1.6250181 ],\n",
       "       [-0.6435697 ],\n",
       "       [-1.1769656 ],\n",
       "       [-0.87826395],\n",
       "       [-0.9209356 ],\n",
       "       [-1.529007  ],\n",
       "       [-1.0809543 ],\n",
       "       [-0.8355923 ],\n",
       "       [-0.6755735 ],\n",
       "       [-0.2701926 ],\n",
       "       [ 0.04984491],\n",
       "       [-0.95293933],\n",
       "       [-0.867596  ],\n",
       "       [-0.14217772],\n",
       "       [-0.9742752 ],\n",
       "       [-0.5582264 ],\n",
       "       [-0.22752097]], dtype=float32)"
      ]
     },
     "execution_count": 12,
     "metadata": {},
     "output_type": "execute_result"
    }
   ],
   "source": [
    "data_uci.Y_test"
   ]
  },
  {
   "cell_type": "code",
   "execution_count": null,
   "metadata": {},
   "outputs": [],
   "source": []
  }
 ],
 "metadata": {
  "kernelspec": {
   "display_name": "sproj",
   "language": "python",
   "name": "python3"
  },
  "language_info": {
   "codemirror_mode": {
    "name": "ipython",
    "version": 3
   },
   "file_extension": ".py",
   "mimetype": "text/x-python",
   "name": "python",
   "nbconvert_exporter": "python",
   "pygments_lexer": "ipython3",
   "version": "3.8.16"
  }
 },
 "nbformat": 4,
 "nbformat_minor": 2
}
